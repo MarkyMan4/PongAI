{
 "cells": [
  {
   "cell_type": "code",
   "execution_count": 1,
   "id": "introductory-david",
   "metadata": {},
   "outputs": [],
   "source": [
    "import pandas as pd\n",
    "from sklearn.linear_model import LinearRegression\n",
    "from sklearn.model_selection import train_test_split\n",
    "from sklearn.metrics import r2_score, mean_squared_error\n",
    "from joblib import dump"
   ]
  },
  {
   "cell_type": "code",
   "execution_count": 2,
   "id": "capital-radius",
   "metadata": {},
   "outputs": [
    {
     "data": {
      "text/html": [
       "<div>\n",
       "<style scoped>\n",
       "    .dataframe tbody tr th:only-of-type {\n",
       "        vertical-align: middle;\n",
       "    }\n",
       "\n",
       "    .dataframe tbody tr th {\n",
       "        vertical-align: top;\n",
       "    }\n",
       "\n",
       "    .dataframe thead th {\n",
       "        text-align: right;\n",
       "    }\n",
       "</style>\n",
       "<table border=\"1\" class=\"dataframe\">\n",
       "  <thead>\n",
       "    <tr style=\"text-align: right;\">\n",
       "      <th></th>\n",
       "      <th>ball_x</th>\n",
       "      <th>ball_y</th>\n",
       "      <th>ball_x_vel</th>\n",
       "      <th>ball_y_vel</th>\n",
       "      <th>player_y</th>\n",
       "    </tr>\n",
       "  </thead>\n",
       "  <tbody>\n",
       "    <tr>\n",
       "      <th>0</th>\n",
       "      <td>500.0</td>\n",
       "      <td>325.00</td>\n",
       "      <td>-0.5</td>\n",
       "      <td>-0.25</td>\n",
       "      <td>275.0</td>\n",
       "    </tr>\n",
       "    <tr>\n",
       "      <th>1</th>\n",
       "      <td>499.5</td>\n",
       "      <td>324.75</td>\n",
       "      <td>-0.5</td>\n",
       "      <td>-0.25</td>\n",
       "      <td>275.0</td>\n",
       "    </tr>\n",
       "    <tr>\n",
       "      <th>2</th>\n",
       "      <td>499.0</td>\n",
       "      <td>324.50</td>\n",
       "      <td>-0.5</td>\n",
       "      <td>-0.25</td>\n",
       "      <td>275.0</td>\n",
       "    </tr>\n",
       "    <tr>\n",
       "      <th>3</th>\n",
       "      <td>498.5</td>\n",
       "      <td>324.25</td>\n",
       "      <td>-0.5</td>\n",
       "      <td>-0.25</td>\n",
       "      <td>275.0</td>\n",
       "    </tr>\n",
       "    <tr>\n",
       "      <th>4</th>\n",
       "      <td>498.0</td>\n",
       "      <td>324.00</td>\n",
       "      <td>-0.5</td>\n",
       "      <td>-0.25</td>\n",
       "      <td>275.0</td>\n",
       "    </tr>\n",
       "    <tr>\n",
       "      <th>...</th>\n",
       "      <td>...</td>\n",
       "      <td>...</td>\n",
       "      <td>...</td>\n",
       "      <td>...</td>\n",
       "      <td>...</td>\n",
       "    </tr>\n",
       "    <tr>\n",
       "      <th>91004</th>\n",
       "      <td>502.0</td>\n",
       "      <td>326.00</td>\n",
       "      <td>0.5</td>\n",
       "      <td>0.25</td>\n",
       "      <td>195.0</td>\n",
       "    </tr>\n",
       "    <tr>\n",
       "      <th>91005</th>\n",
       "      <td>502.5</td>\n",
       "      <td>326.25</td>\n",
       "      <td>0.5</td>\n",
       "      <td>0.25</td>\n",
       "      <td>195.0</td>\n",
       "    </tr>\n",
       "    <tr>\n",
       "      <th>91006</th>\n",
       "      <td>503.0</td>\n",
       "      <td>326.50</td>\n",
       "      <td>0.5</td>\n",
       "      <td>0.25</td>\n",
       "      <td>195.0</td>\n",
       "    </tr>\n",
       "    <tr>\n",
       "      <th>91007</th>\n",
       "      <td>503.5</td>\n",
       "      <td>326.75</td>\n",
       "      <td>0.5</td>\n",
       "      <td>0.25</td>\n",
       "      <td>195.0</td>\n",
       "    </tr>\n",
       "    <tr>\n",
       "      <th>91008</th>\n",
       "      <td>504.0</td>\n",
       "      <td>327.00</td>\n",
       "      <td>0.5</td>\n",
       "      <td>0.25</td>\n",
       "      <td>195.0</td>\n",
       "    </tr>\n",
       "  </tbody>\n",
       "</table>\n",
       "<p>91009 rows × 5 columns</p>\n",
       "</div>"
      ],
      "text/plain": [
       "       ball_x  ball_y  ball_x_vel  ball_y_vel  player_y\n",
       "0       500.0  325.00        -0.5       -0.25     275.0\n",
       "1       499.5  324.75        -0.5       -0.25     275.0\n",
       "2       499.0  324.50        -0.5       -0.25     275.0\n",
       "3       498.5  324.25        -0.5       -0.25     275.0\n",
       "4       498.0  324.00        -0.5       -0.25     275.0\n",
       "...       ...     ...         ...         ...       ...\n",
       "91004   502.0  326.00         0.5        0.25     195.0\n",
       "91005   502.5  326.25         0.5        0.25     195.0\n",
       "91006   503.0  326.50         0.5        0.25     195.0\n",
       "91007   503.5  326.75         0.5        0.25     195.0\n",
       "91008   504.0  327.00         0.5        0.25     195.0\n",
       "\n",
       "[91009 rows x 5 columns]"
      ]
     },
     "execution_count": 2,
     "metadata": {},
     "output_type": "execute_result"
    }
   ],
   "source": [
    "df = pd.read_csv('../positions.csv')\n",
    "df"
   ]
  },
  {
   "cell_type": "markdown",
   "id": "perceived-monitor",
   "metadata": {},
   "source": [
    "### Split into train and test data"
   ]
  },
  {
   "cell_type": "code",
   "execution_count": 3,
   "id": "spatial-renewal",
   "metadata": {
    "scrolled": true
   },
   "outputs": [
    {
     "name": "stdout",
     "output_type": "stream",
     "text": [
      "x train:\n",
      "[[ 9.0000e+01  4.5000e+02  5.0000e-01 -2.5000e-01]\n",
      " [ 1.3400e+02  7.8000e+01 -5.0000e-01  2.5000e-01]\n",
      " [ 1.9500e+02  2.1750e+02  5.0000e-01 -2.5000e-01]\n",
      " ...\n",
      " [ 5.7650e+02  1.4325e+02 -5.0000e-01 -2.5000e-01]\n",
      " [ 7.6550e+02  5.7750e+01  5.0000e-01  2.5000e-01]\n",
      " [ 1.5600e+02  3.2300e+02  5.0000e-01  2.5000e-01]]\n",
      "x test:\n",
      "[[ 4.2300e+02  4.7350e+02 -5.0000e-01  2.5000e-01]\n",
      " [ 6.1600e+02  5.6300e+02 -5.0000e-01 -2.5000e-01]\n",
      " [ 7.5650e+02  4.3325e+02  5.0000e-01  2.5000e-01]\n",
      " ...\n",
      " [ 7.7500e+01  4.7625e+02 -5.0000e-01  2.5000e-01]\n",
      " [ 9.8600e+02  5.5800e+02 -5.0000e-01 -2.5000e-01]\n",
      " [ 7.4350e+02  2.4675e+02  5.0000e-01  2.5000e-01]]\n",
      "y train:\n",
      "[[403.]\n",
      " [ 73.]\n",
      " [227.]\n",
      " ...\n",
      " [117.]\n",
      " [ 70.]\n",
      " [230.]]\n",
      "y test:\n",
      "[[384.]\n",
      " [545.]\n",
      " [315.]\n",
      " ...\n",
      " [399.]\n",
      " [484.]\n",
      " [211.]]\n"
     ]
    }
   ],
   "source": [
    "features = df[['ball_x', 'ball_y', 'ball_x_vel', 'ball_y_vel']].to_numpy()\n",
    "targets = df[['player_y']].to_numpy()\n",
    "\n",
    "x_train, x_test, y_train, y_test = train_test_split(features, targets, test_size=0.9)\n",
    "\n",
    "print(f'x train:\\n{x_train}')\n",
    "print(f'x test:\\n{x_test}')\n",
    "print(f'y train:\\n{y_train}')\n",
    "print(f'y test:\\n{y_test}')"
   ]
  },
  {
   "cell_type": "markdown",
   "id": "familiar-gathering",
   "metadata": {},
   "source": [
    "### Fit the model"
   ]
  },
  {
   "cell_type": "code",
   "execution_count": 4,
   "id": "arranged-cleveland",
   "metadata": {},
   "outputs": [
    {
     "data": {
      "text/plain": [
       "0.8869807719080147"
      ]
     },
     "execution_count": 4,
     "metadata": {},
     "output_type": "execute_result"
    }
   ],
   "source": [
    "reg = LinearRegression()\n",
    "reg.fit(x_train, y_train)\n",
    "reg.score(x_train, y_train)"
   ]
  },
  {
   "cell_type": "markdown",
   "id": "comparative-promise",
   "metadata": {},
   "source": [
    "Find r2 score and mean squared error"
   ]
  },
  {
   "cell_type": "code",
   "execution_count": 5,
   "id": "composed-amendment",
   "metadata": {},
   "outputs": [
    {
     "name": "stdout",
     "output_type": "stream",
     "text": [
      " r2: 0.8876518601264147\n",
      "MSE: 3355.387232398045\n"
     ]
    }
   ],
   "source": [
    "predictions = reg.predict(x_test)\n",
    "\n",
    "print(f' r2: {r2_score(y_test, predictions)}')\n",
    "print(f'MSE: {mean_squared_error(y_test, predictions)}')"
   ]
  },
  {
   "cell_type": "markdown",
   "id": "detected-meaning",
   "metadata": {},
   "source": [
    "### Save the model so it can be loaded in the game"
   ]
  },
  {
   "cell_type": "code",
   "execution_count": 6,
   "id": "owned-saver",
   "metadata": {},
   "outputs": [
    {
     "data": {
      "text/plain": [
       "['model.joblib']"
      ]
     },
     "execution_count": 6,
     "metadata": {},
     "output_type": "execute_result"
    }
   ],
   "source": [
    "dump(reg, 'model.joblib')"
   ]
  },
  {
   "cell_type": "code",
   "execution_count": null,
   "id": "modern-finnish",
   "metadata": {},
   "outputs": [],
   "source": []
  }
 ],
 "metadata": {
  "kernelspec": {
   "display_name": "Python 3",
   "language": "python",
   "name": "python3"
  },
  "language_info": {
   "codemirror_mode": {
    "name": "ipython",
    "version": 3
   },
   "file_extension": ".py",
   "mimetype": "text/x-python",
   "name": "python",
   "nbconvert_exporter": "python",
   "pygments_lexer": "ipython3",
   "version": "3.8.5"
  }
 },
 "nbformat": 4,
 "nbformat_minor": 5
}
